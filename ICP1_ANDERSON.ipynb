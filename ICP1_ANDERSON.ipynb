{
 "cells": [
  {
   "cell_type": "code",
   "execution_count": 1,
   "id": "ca4b4f5b",
   "metadata": {},
   "outputs": [
    {
     "name": "stdout",
     "output_type": "stream",
     "text": [
      "Enter your first name: Angelica\n",
      "Enter your last name: Anderson \n",
      "Full name: Angelica Anderson \n"
     ]
    }
   ],
   "source": [
    "def fullname(first_name, last_name):\n",
    "    return first_name + \" \" + last_name\n",
    "\n",
    "def main():\n",
    "    first_name = input(\"Enter your first name: \")\n",
    "    last_name = input(\"Enter your last name: \")\n",
    "\n",
    "    full_name = fullname(first_name, last_name)\n",
    "\n",
    "    print(\"Full name:\", full_name)\n",
    "\n",
    "if __name__ == \"__main__\":\n",
    "    main()\n"
   ]
  },
  {
   "cell_type": "code",
   "execution_count": null,
   "id": "b0c7c27e",
   "metadata": {},
   "outputs": [],
   "source": []
  },
  {
   "cell_type": "code",
   "execution_count": 2,
   "id": "ea6fcdca",
   "metadata": {},
   "outputs": [
    {
     "name": "stdout",
     "output_type": "stream",
     "text": [
      "Go vnn\n"
     ]
    }
   ],
   "source": [
    "def string_alternative(input_str):\n",
    "    return input_str[::2]\n",
    "\n",
    "input_str = \"Good evening\"\n",
    "result = string_alternative(input_str)\n",
    "print(result) \n"
   ]
  },
  {
   "cell_type": "code",
   "execution_count": null,
   "id": "b0c48c19",
   "metadata": {},
   "outputs": [],
   "source": []
  },
  {
   "cell_type": "code",
   "execution_count": 6,
   "id": "d8b9f840",
   "metadata": {},
   "outputs": [],
   "source": [
    "from collections import defaultdict\n",
    "\n",
    "def count_words_in_line(line):\n",
    "    words = line.split()\n",
    "    word_count = defaultdict(int)\n",
    "    \n",
    "    for word in words:\n",
    "        word_count[word] += 1\n",
    "    \n",
    "    return word_count\n",
    "\n",
    "with open('input.txt', 'r') as infile, open('output.txt', 'w') as outfile:\n",
    "    overall_word_count = defaultdict(int)\n",
    "\n",
    "    lines = infile.readlines()\n",
    "\n",
    "    for line in lines:\n",
    "        outfile.write(line)\n",
    "        line_word_count = count_words_in_line(line.strip())\n",
    "        \n",
    "        for word, count in line_word_count.items():\n",
    "            overall_word_count[word] += count\n",
    "\n",
    "    outfile.write(\"\\nWord_Count:\\n\")\n",
    "    for word, count in overall_word_count.items():\n",
    "        outfile.write(f\"{word}: {count}\\n\")"
   ]
  },
  {
   "cell_type": "code",
   "execution_count": null,
   "id": "10f85161",
   "metadata": {},
   "outputs": [],
   "source": []
  },
  {
   "cell_type": "code",
   "execution_count": null,
   "id": "ca845ec8",
   "metadata": {},
   "outputs": [],
   "source": [
    "heights_in_inches = []\n",
    "\n",
    "n = int(input(\"Enter the number of customers: \"))\n",
    "\n",
    "for i in range(n):\n",
    "    height = float(input(f\"Enter height of customer {i+1} in inches: \"))\n",
    "    heights_in_inches.append(height)\n",
    "\n",
    "heights_in_cm = []\n",
    "\n",
    "for height in heights_in_inches:\n",
    "    height_in_cm = height * 2.54\n",
    "    heights_in_cm.append(round(height_in_cm, 2))\n",
    "\n",
    "print(\"Heights in inches:\", heights_in_inches)\n",
    "print(\"Heights in centimeters:\", heights_in_cm)"
   ]
  },
  {
   "cell_type": "code",
   "execution_count": null,
   "id": "4f5a62ba",
   "metadata": {},
   "outputs": [],
   "source": []
  },
  {
   "cell_type": "code",
   "execution_count": null,
   "id": "f7b77de9",
   "metadata": {},
   "outputs": [],
   "source": [
    "heights_in_inches = [float(input(f\"Enter height of customer {i+1} in inches: \")) for i in range(int(input(\"Enter the number of customers: \")))]\n",
    "\n",
    "heights_in_cm = [round(height * 2.54, 2) for height in heights_in_inches]\n",
    "\n",
    "print(\"Heights in inches:\", heights_in_inches)\n",
    "print(\"Heights in centimeters:\", heights_in_cm)"
   ]
  },
  {
   "cell_type": "code",
   "execution_count": null,
   "id": "bae3fd5c",
   "metadata": {},
   "outputs": [],
   "source": []
  }
 ],
 "metadata": {
  "kernelspec": {
   "display_name": "Python 3 (ipykernel)",
   "language": "python",
   "name": "python3"
  },
  "language_info": {
   "codemirror_mode": {
    "name": "ipython",
    "version": 3
   },
   "file_extension": ".py",
   "mimetype": "text/x-python",
   "name": "python",
   "nbconvert_exporter": "python",
   "pygments_lexer": "ipython3",
   "version": "3.11.5"
  }
 },
 "nbformat": 4,
 "nbformat_minor": 5
}
